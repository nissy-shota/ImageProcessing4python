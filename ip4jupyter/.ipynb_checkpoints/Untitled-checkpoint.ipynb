{
 "cells": [
  {
   "cell_type": "code",
   "execution_count": 60,
   "metadata": {},
   "outputs": [],
   "source": [
    "import cv2"
   ]
  },
  {
   "cell_type": "code",
   "execution_count": 61,
   "metadata": {},
   "outputs": [],
   "source": [
    "import numpy as np"
   ]
  },
  {
   "cell_type": "code",
   "execution_count": 62,
   "metadata": {},
   "outputs": [],
   "source": [
    "src_img = cv2.imread('/Users/shotanishiyama/PycharmProjects/ip100/prog21-30/HashimotoKanna.jpg')"
   ]
  },
  {
   "cell_type": "code",
   "execution_count": 63,
   "metadata": {},
   "outputs": [],
   "source": [
    "img = src_img.astype(np.float32)"
   ]
  },
  {
   "cell_type": "code",
   "execution_count": 64,
   "metadata": {},
   "outputs": [
    {
     "data": {
      "text/plain": [
       "array([[[124., 123., 255.],\n",
       "        [124., 123., 255.],\n",
       "        [123., 122., 255.],\n",
       "        ...,\n",
       "        [123., 137., 255.],\n",
       "        [123., 137., 255.],\n",
       "        [123., 137., 255.]],\n",
       "\n",
       "       [[124., 123., 255.],\n",
       "        [124., 123., 255.],\n",
       "        [123., 122., 255.],\n",
       "        ...,\n",
       "        [123., 137., 255.],\n",
       "        [123., 137., 255.],\n",
       "        [123., 137., 255.]],\n",
       "\n",
       "       [[124., 123., 255.],\n",
       "        [124., 123., 255.],\n",
       "        [123., 122., 255.],\n",
       "        ...,\n",
       "        [123., 137., 255.],\n",
       "        [123., 137., 255.],\n",
       "        [123., 137., 255.]],\n",
       "\n",
       "       ...,\n",
       "\n",
       "       [[ 12.,  12.,  18.],\n",
       "        [ 12.,  12.,  18.],\n",
       "        [ 12.,  12.,  18.],\n",
       "        ...,\n",
       "        [148., 151., 255.],\n",
       "        [148., 151., 255.],\n",
       "        [148., 151., 255.]],\n",
       "\n",
       "       [[ 13.,  13.,  19.],\n",
       "        [ 12.,  12.,  18.],\n",
       "        [ 12.,  12.,  18.],\n",
       "        ...,\n",
       "        [148., 151., 255.],\n",
       "        [148., 151., 255.],\n",
       "        [148., 151., 255.]],\n",
       "\n",
       "       [[ 13.,  13.,  19.],\n",
       "        [ 13.,  13.,  19.],\n",
       "        [ 12.,  12.,  18.],\n",
       "        ...,\n",
       "        [148., 151., 255.],\n",
       "        [148., 151., 255.],\n",
       "        [148., 151., 255.]]], dtype=float32)"
      ]
     },
     "execution_count": 64,
     "metadata": {},
     "output_type": "execute_result"
    }
   ],
   "source": [
    "img"
   ]
  },
  {
   "cell_type": "code",
   "execution_count": 65,
   "metadata": {},
   "outputs": [],
   "source": [
    " ax = 1.5\n",
    "ay = 1.5"
   ]
  },
  {
   "cell_type": "code",
   "execution_count": 66,
   "metadata": {},
   "outputs": [],
   "source": [
    "    H, W, C = img.shape\n",
    "\n",
    "    aH = int(ay * H)\n",
    "    aW = int(ax * W)"
   ]
  },
  {
   "cell_type": "code",
   "execution_count": 67,
   "metadata": {},
   "outputs": [
    {
     "data": {
      "text/plain": [
       "924"
      ]
     },
     "execution_count": 67,
     "metadata": {},
     "output_type": "execute_result"
    }
   ],
   "source": [
    "aH"
   ]
  },
  {
   "cell_type": "code",
   "execution_count": 68,
   "metadata": {},
   "outputs": [],
   "source": [
    "    y = np.arange(aH).repeat(aW).reshape(aH, -1)\n",
    "    x = np.tile(np.arange(aW), (aH, 1))"
   ]
  },
  {
   "cell_type": "code",
   "execution_count": 69,
   "metadata": {},
   "outputs": [
    {
     "data": {
      "text/plain": [
       "array([[  0,   0,   0, ...,   0,   0,   0],\n",
       "       [  1,   1,   1, ...,   1,   1,   1],\n",
       "       [  2,   2,   2, ...,   2,   2,   2],\n",
       "       ...,\n",
       "       [921, 921, 921, ..., 921, 921, 921],\n",
       "       [922, 922, 922, ..., 922, 922, 922],\n",
       "       [923, 923, 923, ..., 923, 923, 923]])"
      ]
     },
     "execution_count": 69,
     "metadata": {},
     "output_type": "execute_result"
    }
   ],
   "source": [
    "y"
   ]
  },
  {
   "cell_type": "code",
   "execution_count": 70,
   "metadata": {},
   "outputs": [
    {
     "data": {
      "text/plain": [
       "array([[  0,   1,   2, ..., 919, 920, 921],\n",
       "       [  0,   1,   2, ..., 919, 920, 921],\n",
       "       [  0,   1,   2, ..., 919, 920, 921],\n",
       "       ...,\n",
       "       [  0,   1,   2, ..., 919, 920, 921],\n",
       "       [  0,   1,   2, ..., 919, 920, 921],\n",
       "       [  0,   1,   2, ..., 919, 920, 921]])"
      ]
     },
     "execution_count": 70,
     "metadata": {},
     "output_type": "execute_result"
    }
   ],
   "source": [
    "x"
   ]
  },
  {
   "cell_type": "code",
   "execution_count": 71,
   "metadata": {},
   "outputs": [],
   "source": [
    "    y = (y / ay)\n",
    "    x = (x / ax)"
   ]
  },
  {
   "cell_type": "code",
   "execution_count": 72,
   "metadata": {},
   "outputs": [
    {
     "data": {
      "text/plain": [
       "array([[  0.        ,   0.        ,   0.        , ...,   0.        ,\n",
       "          0.        ,   0.        ],\n",
       "       [  0.66666667,   0.66666667,   0.66666667, ...,   0.66666667,\n",
       "          0.66666667,   0.66666667],\n",
       "       [  1.33333333,   1.33333333,   1.33333333, ...,   1.33333333,\n",
       "          1.33333333,   1.33333333],\n",
       "       ...,\n",
       "       [614.        , 614.        , 614.        , ..., 614.        ,\n",
       "        614.        , 614.        ],\n",
       "       [614.66666667, 614.66666667, 614.66666667, ..., 614.66666667,\n",
       "        614.66666667, 614.66666667],\n",
       "       [615.33333333, 615.33333333, 615.33333333, ..., 615.33333333,\n",
       "        615.33333333, 615.33333333]])"
      ]
     },
     "execution_count": 72,
     "metadata": {},
     "output_type": "execute_result"
    }
   ],
   "source": [
    "y"
   ]
  },
  {
   "cell_type": "code",
   "execution_count": 73,
   "metadata": {},
   "outputs": [
    {
     "data": {
      "text/plain": [
       "array([[  0.        ,   0.66666667,   1.33333333, ..., 612.66666667,\n",
       "        613.33333333, 614.        ],\n",
       "       [  0.        ,   0.66666667,   1.33333333, ..., 612.66666667,\n",
       "        613.33333333, 614.        ],\n",
       "       [  0.        ,   0.66666667,   1.33333333, ..., 612.66666667,\n",
       "        613.33333333, 614.        ],\n",
       "       ...,\n",
       "       [  0.        ,   0.66666667,   1.33333333, ..., 612.66666667,\n",
       "        613.33333333, 614.        ],\n",
       "       [  0.        ,   0.66666667,   1.33333333, ..., 612.66666667,\n",
       "        613.33333333, 614.        ],\n",
       "       [  0.        ,   0.66666667,   1.33333333, ..., 612.66666667,\n",
       "        613.33333333, 614.        ]])"
      ]
     },
     "execution_count": 73,
     "metadata": {},
     "output_type": "execute_result"
    }
   ],
   "source": [
    "x"
   ]
  },
  {
   "cell_type": "code",
   "execution_count": 74,
   "metadata": {},
   "outputs": [],
   "source": [
    "    ix = np.floor(x).astype(np.int)\n",
    "    iy = np.floor(y).astype(np.int)"
   ]
  },
  {
   "cell_type": "code",
   "execution_count": 75,
   "metadata": {},
   "outputs": [
    {
     "data": {
      "text/plain": [
       "array([[  0,   0,   1, ..., 612, 613, 614],\n",
       "       [  0,   0,   1, ..., 612, 613, 614],\n",
       "       [  0,   0,   1, ..., 612, 613, 614],\n",
       "       ...,\n",
       "       [  0,   0,   1, ..., 612, 613, 614],\n",
       "       [  0,   0,   1, ..., 612, 613, 614],\n",
       "       [  0,   0,   1, ..., 612, 613, 614]])"
      ]
     },
     "execution_count": 75,
     "metadata": {},
     "output_type": "execute_result"
    }
   ],
   "source": [
    "ix"
   ]
  },
  {
   "cell_type": "code",
   "execution_count": 76,
   "metadata": {},
   "outputs": [
    {
     "data": {
      "text/plain": [
       "array([[  0,   0,   0, ...,   0,   0,   0],\n",
       "       [  0,   0,   0, ...,   0,   0,   0],\n",
       "       [  1,   1,   1, ...,   1,   1,   1],\n",
       "       ...,\n",
       "       [614, 614, 614, ..., 614, 614, 614],\n",
       "       [614, 614, 614, ..., 614, 614, 614],\n",
       "       [615, 615, 615, ..., 615, 615, 615]])"
      ]
     },
     "execution_count": 76,
     "metadata": {},
     "output_type": "execute_result"
    }
   ],
   "source": [
    "iy"
   ]
  },
  {
   "cell_type": "code",
   "execution_count": 77,
   "metadata": {},
   "outputs": [],
   "source": [
    "    ix = np.minimum(ix,W-2)\n",
    "    iy = np.minimum(iy,H-2)"
   ]
  },
  {
   "cell_type": "code",
   "execution_count": 78,
   "metadata": {},
   "outputs": [
    {
     "data": {
      "text/plain": [
       "array([[  0,   0,   1, ..., 612, 613, 613],\n",
       "       [  0,   0,   1, ..., 612, 613, 613],\n",
       "       [  0,   0,   1, ..., 612, 613, 613],\n",
       "       ...,\n",
       "       [  0,   0,   1, ..., 612, 613, 613],\n",
       "       [  0,   0,   1, ..., 612, 613, 613],\n",
       "       [  0,   0,   1, ..., 612, 613, 613]])"
      ]
     },
     "execution_count": 78,
     "metadata": {},
     "output_type": "execute_result"
    }
   ],
   "source": [
    "ix"
   ]
  },
  {
   "cell_type": "code",
   "execution_count": 79,
   "metadata": {},
   "outputs": [
    {
     "data": {
      "text/plain": [
       "array([[  0,   0,   0, ...,   0,   0,   0],\n",
       "       [  0,   0,   0, ...,   0,   0,   0],\n",
       "       [  1,   1,   1, ...,   1,   1,   1],\n",
       "       ...,\n",
       "       [614, 614, 614, ..., 614, 614, 614],\n",
       "       [614, 614, 614, ..., 614, 614, 614],\n",
       "       [614, 614, 614, ..., 614, 614, 614]])"
      ]
     },
     "execution_count": 79,
     "metadata": {},
     "output_type": "execute_result"
    }
   ],
   "source": [
    "iy"
   ]
  },
  {
   "cell_type": "code",
   "execution_count": 80,
   "metadata": {},
   "outputs": [
    {
     "data": {
      "text/plain": [
       "613"
      ]
     },
     "execution_count": 80,
     "metadata": {},
     "output_type": "execute_result"
    }
   ],
   "source": [
    "W-2"
   ]
  },
  {
   "cell_type": "code",
   "execution_count": 81,
   "metadata": {},
   "outputs": [
    {
     "data": {
      "text/plain": [
       "614"
      ]
     },
     "execution_count": 81,
     "metadata": {},
     "output_type": "execute_result"
    }
   ],
   "source": [
    "H-2"
   ]
  },
  {
   "cell_type": "code",
   "execution_count": 82,
   "metadata": {},
   "outputs": [],
   "source": [
    "    dx = x - ix\n",
    "    dy = y - iy"
   ]
  },
  {
   "cell_type": "code",
   "execution_count": 83,
   "metadata": {},
   "outputs": [
    {
     "data": {
      "text/plain": [
       "array([[0.        , 0.66666667, 0.33333333, ..., 0.66666667, 0.33333333,\n",
       "        1.        ],\n",
       "       [0.        , 0.66666667, 0.33333333, ..., 0.66666667, 0.33333333,\n",
       "        1.        ],\n",
       "       [0.        , 0.66666667, 0.33333333, ..., 0.66666667, 0.33333333,\n",
       "        1.        ],\n",
       "       ...,\n",
       "       [0.        , 0.66666667, 0.33333333, ..., 0.66666667, 0.33333333,\n",
       "        1.        ],\n",
       "       [0.        , 0.66666667, 0.33333333, ..., 0.66666667, 0.33333333,\n",
       "        1.        ],\n",
       "       [0.        , 0.66666667, 0.33333333, ..., 0.66666667, 0.33333333,\n",
       "        1.        ]])"
      ]
     },
     "execution_count": 83,
     "metadata": {},
     "output_type": "execute_result"
    }
   ],
   "source": [
    "dx"
   ]
  },
  {
   "cell_type": "code",
   "execution_count": 84,
   "metadata": {},
   "outputs": [
    {
     "data": {
      "text/plain": [
       "array([[0.        , 0.        , 0.        , ..., 0.        , 0.        ,\n",
       "        0.        ],\n",
       "       [0.66666667, 0.66666667, 0.66666667, ..., 0.66666667, 0.66666667,\n",
       "        0.66666667],\n",
       "       [0.33333333, 0.33333333, 0.33333333, ..., 0.33333333, 0.33333333,\n",
       "        0.33333333],\n",
       "       ...,\n",
       "       [0.        , 0.        , 0.        , ..., 0.        , 0.        ,\n",
       "        0.        ],\n",
       "       [0.66666667, 0.66666667, 0.66666667, ..., 0.66666667, 0.66666667,\n",
       "        0.66666667],\n",
       "       [1.33333333, 1.33333333, 1.33333333, ..., 1.33333333, 1.33333333,\n",
       "        1.33333333]])"
      ]
     },
     "execution_count": 84,
     "metadata": {},
     "output_type": "execute_result"
    }
   ],
   "source": [
    "dy"
   ]
  },
  {
   "cell_type": "code",
   "execution_count": 85,
   "metadata": {},
   "outputs": [],
   "source": [
    "    dx = np.repeat(np.expand_dims(dx, axis=-1), 3, axis=-1)\n",
    "    dy = np.repeat(np.expand_dims(dy, axis=-1), 3, axis=-1)"
   ]
  },
  {
   "cell_type": "code",
   "execution_count": 86,
   "metadata": {},
   "outputs": [
    {
     "data": {
      "text/plain": [
       "(924, 922, 3)"
      ]
     },
     "execution_count": 86,
     "metadata": {},
     "output_type": "execute_result"
    }
   ],
   "source": [
    "dx.shape\n"
   ]
  },
  {
   "cell_type": "code",
   "execution_count": 87,
   "metadata": {},
   "outputs": [
    {
     "data": {
      "text/plain": [
       "(924, 922, 3)"
      ]
     },
     "execution_count": 87,
     "metadata": {},
     "output_type": "execute_result"
    }
   ],
   "source": [
    "dy.shape"
   ]
  },
  {
   "cell_type": "code",
   "execution_count": 88,
   "metadata": {},
   "outputs": [],
   "source": [
    "    out = (1 - dx) * (1 - dy) * img[iy, ix] + dx * (1 - dy) * img[iy, ix + 1] + (1 - dx) * dy * img[\n",
    "        iy + 1, ix] + dx * dy * img[iy + 1, ix + 1]"
   ]
  },
  {
   "cell_type": "code",
   "execution_count": 89,
   "metadata": {},
   "outputs": [
    {
     "data": {
      "text/plain": [
       "array([[[124.        , 123.        , 255.        ],\n",
       "        [124.        , 123.        , 255.        ],\n",
       "        [123.66666667, 122.66666667, 255.        ],\n",
       "        ...,\n",
       "        [123.        , 137.        , 255.        ],\n",
       "        [123.        , 137.        , 255.        ],\n",
       "        [123.        , 137.        , 255.        ]],\n",
       "\n",
       "       [[124.        , 123.        , 255.        ],\n",
       "        [124.        , 123.        , 255.        ],\n",
       "        [123.66666667, 122.66666667, 255.        ],\n",
       "        ...,\n",
       "        [123.        , 137.        , 255.        ],\n",
       "        [123.        , 137.        , 255.        ],\n",
       "        [123.        , 137.        , 255.        ]],\n",
       "\n",
       "       [[124.        , 123.        , 255.        ],\n",
       "        [124.        , 123.        , 255.        ],\n",
       "        [123.66666667, 122.66666667, 255.        ],\n",
       "        ...,\n",
       "        [123.        , 137.        , 255.        ],\n",
       "        [123.        , 137.        , 255.        ],\n",
       "        [123.        , 137.        , 255.        ]],\n",
       "\n",
       "       ...,\n",
       "\n",
       "       [[ 13.        ,  13.        ,  19.        ],\n",
       "        [ 12.33333333,  12.33333333,  18.33333333],\n",
       "        [ 12.        ,  12.        ,  18.        ],\n",
       "        ...,\n",
       "        [148.        , 151.        , 255.        ],\n",
       "        [148.        , 151.        , 255.        ],\n",
       "        [148.        , 151.        , 255.        ]],\n",
       "\n",
       "       [[ 13.        ,  13.        ,  19.        ],\n",
       "        [ 12.77777778,  12.77777778,  18.77777778],\n",
       "        [ 12.44444444,  12.44444444,  18.44444444],\n",
       "        ...,\n",
       "        [148.        , 151.        , 255.        ],\n",
       "        [148.        , 151.        , 255.        ],\n",
       "        [148.        , 151.        , 255.        ]],\n",
       "\n",
       "       [[ 13.        ,  13.        ,  19.        ],\n",
       "        [ 13.22222222,  13.22222222,  19.22222222],\n",
       "        [ 12.88888889,  12.88888889,  18.88888889],\n",
       "        ...,\n",
       "        [148.        , 151.        , 255.        ],\n",
       "        [148.        , 151.        , 255.        ],\n",
       "        [148.        , 151.        , 255.        ]]])"
      ]
     },
     "execution_count": 89,
     "metadata": {},
     "output_type": "execute_result"
    }
   ],
   "source": [
    "out"
   ]
  },
  {
   "cell_type": "code",
   "execution_count": 90,
   "metadata": {},
   "outputs": [],
   "source": [
    "    out = np.clip(out, 0, 255)"
   ]
  },
  {
   "cell_type": "code",
   "execution_count": 91,
   "metadata": {},
   "outputs": [
    {
     "data": {
      "text/plain": [
       "array([[[124.        , 123.        , 255.        ],\n",
       "        [124.        , 123.        , 255.        ],\n",
       "        [123.66666667, 122.66666667, 255.        ],\n",
       "        ...,\n",
       "        [123.        , 137.        , 255.        ],\n",
       "        [123.        , 137.        , 255.        ],\n",
       "        [123.        , 137.        , 255.        ]],\n",
       "\n",
       "       [[124.        , 123.        , 255.        ],\n",
       "        [124.        , 123.        , 255.        ],\n",
       "        [123.66666667, 122.66666667, 255.        ],\n",
       "        ...,\n",
       "        [123.        , 137.        , 255.        ],\n",
       "        [123.        , 137.        , 255.        ],\n",
       "        [123.        , 137.        , 255.        ]],\n",
       "\n",
       "       [[124.        , 123.        , 255.        ],\n",
       "        [124.        , 123.        , 255.        ],\n",
       "        [123.66666667, 122.66666667, 255.        ],\n",
       "        ...,\n",
       "        [123.        , 137.        , 255.        ],\n",
       "        [123.        , 137.        , 255.        ],\n",
       "        [123.        , 137.        , 255.        ]],\n",
       "\n",
       "       ...,\n",
       "\n",
       "       [[ 13.        ,  13.        ,  19.        ],\n",
       "        [ 12.33333333,  12.33333333,  18.33333333],\n",
       "        [ 12.        ,  12.        ,  18.        ],\n",
       "        ...,\n",
       "        [148.        , 151.        , 255.        ],\n",
       "        [148.        , 151.        , 255.        ],\n",
       "        [148.        , 151.        , 255.        ]],\n",
       "\n",
       "       [[ 13.        ,  13.        ,  19.        ],\n",
       "        [ 12.77777778,  12.77777778,  18.77777778],\n",
       "        [ 12.44444444,  12.44444444,  18.44444444],\n",
       "        ...,\n",
       "        [148.        , 151.        , 255.        ],\n",
       "        [148.        , 151.        , 255.        ],\n",
       "        [148.        , 151.        , 255.        ]],\n",
       "\n",
       "       [[ 13.        ,  13.        ,  19.        ],\n",
       "        [ 13.22222222,  13.22222222,  19.22222222],\n",
       "        [ 12.88888889,  12.88888889,  18.88888889],\n",
       "        ...,\n",
       "        [148.        , 151.        , 255.        ],\n",
       "        [148.        , 151.        , 255.        ],\n",
       "        [148.        , 151.        , 255.        ]]])"
      ]
     },
     "execution_count": 91,
     "metadata": {},
     "output_type": "execute_result"
    }
   ],
   "source": [
    "out"
   ]
  },
  {
   "cell_type": "code",
   "execution_count": 92,
   "metadata": {},
   "outputs": [],
   "source": [
    "out = out.astype(np.uint8)"
   ]
  },
  {
   "cell_type": "code",
   "execution_count": 93,
   "metadata": {},
   "outputs": [
    {
     "data": {
      "text/plain": [
       "array([[[124, 123, 255],\n",
       "        [124, 123, 255],\n",
       "        [123, 122, 255],\n",
       "        ...,\n",
       "        [123, 137, 255],\n",
       "        [123, 137, 255],\n",
       "        [123, 137, 255]],\n",
       "\n",
       "       [[124, 123, 255],\n",
       "        [124, 123, 255],\n",
       "        [123, 122, 255],\n",
       "        ...,\n",
       "        [123, 137, 255],\n",
       "        [123, 137, 255],\n",
       "        [123, 137, 255]],\n",
       "\n",
       "       [[124, 123, 255],\n",
       "        [123, 123, 255],\n",
       "        [123, 122, 255],\n",
       "        ...,\n",
       "        [123, 137, 255],\n",
       "        [123, 137, 255],\n",
       "        [123, 137, 255]],\n",
       "\n",
       "       ...,\n",
       "\n",
       "       [[ 13,  13,  19],\n",
       "        [ 12,  12,  18],\n",
       "        [ 12,  12,  18],\n",
       "        ...,\n",
       "        [148, 151, 255],\n",
       "        [148, 151, 255],\n",
       "        [148, 151, 255]],\n",
       "\n",
       "       [[ 13,  13,  19],\n",
       "        [ 12,  12,  18],\n",
       "        [ 12,  12,  18],\n",
       "        ...,\n",
       "        [148, 151, 255],\n",
       "        [148, 151, 255],\n",
       "        [148, 151, 255]],\n",
       "\n",
       "       [[ 13,  13,  19],\n",
       "        [ 13,  13,  19],\n",
       "        [ 12,  12,  18],\n",
       "        ...,\n",
       "        [148, 151, 255],\n",
       "        [148, 151, 255],\n",
       "        [148, 151, 255]]], dtype=uint8)"
      ]
     },
     "execution_count": 93,
     "metadata": {},
     "output_type": "execute_result"
    }
   ],
   "source": [
    "out"
   ]
  },
  {
   "cell_type": "code",
   "execution_count": null,
   "metadata": {},
   "outputs": [],
   "source": []
  },
  {
   "cell_type": "code",
   "execution_count": null,
   "metadata": {},
   "outputs": [],
   "source": []
  }
 ],
 "metadata": {
  "kernelspec": {
   "display_name": "Python 3",
   "language": "python",
   "name": "python3"
  },
  "language_info": {
   "codemirror_mode": {
    "name": "ipython",
    "version": 3
   },
   "file_extension": ".py",
   "mimetype": "text/x-python",
   "name": "python",
   "nbconvert_exporter": "python",
   "pygments_lexer": "ipython3",
   "version": "3.7.5"
  }
 },
 "nbformat": 4,
 "nbformat_minor": 2
}
