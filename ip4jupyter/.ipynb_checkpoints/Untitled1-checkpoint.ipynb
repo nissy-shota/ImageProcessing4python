{
 "cells": [
  {
   "cell_type": "code",
   "execution_count": null,
   "metadata": {},
   "outputs": [],
   "source": [
    "import cv2\n",
    "import numpy as np\n",
    "import matplotlib.pyplot as plt\n",
    "\n",
    "\n",
    "# Affine\n",
    "def affine(img, a, b, c, d, tx, ty):\n",
    "    H, W, C = img.shape\n",
    "\n",
    "    img = np.zeros((H+2, W+2, C), dtype=np.float32)\n",
    "    img[1:H+1, 1:W+1] = _img\n",
    "\n",
    "    # get new image shape\n",
    "    H_new = np.round(H * d).astype(np.int)\n",
    "    W_new = np.round(W * a).astype(np.int)\n",
    "    out = np.zeros((H_new+1, W_new+1, C), dtype=np.float32)\n",
    "\n",
    "    # get position of new image\n",
    "    x_new = np.tile(np.arange(W_new), (H_new, 1))\n",
    "    y_new = np.arange(H_new).repeat(W_new).reshape(H_new, -1)\n",
    "\n",
    "    # get position of original image by affine\n",
    "    adbc = a * d - b * c\n",
    "    x = np.round((d * x_new  - b * y_new) / adbc).astype(np.int) - tx + 1\n",
    "    y = np.round((-c * x_new + a * y_new) / adbc).astype(np.int) - ty + 1\n",
    "\n",
    "    x = np.minimum(np.maximum(x, 0), W+1).astype(np.int)\n",
    "    y = np.minimum(np.maximum(y, 0), H+1).astype(np.int)\n",
    "\n",
    "    # assgin pixcel to new image\n",
    "    out[y_new, x_new] = img[y, x]\n",
    "\n",
    "    out = out[:H_new, :W_new]\n",
    "    out = out.astype(np.uint8)\n",
    "\n",
    "    return out\n",
    "\n",
    "\n",
    "# Read image\n",
    "_img = cv2.imread(\"/Users/shotanishiyama/PycharmProjects/ip100/prog21-30/asuka.jpg\").astype(np.float32)\n",
    "\n",
    "# Affine\n",
    "out = affine(_img, a=1, b=0, c=0, d=1, tx=30, ty=-30)\n",
    "\n",
    "cv2.imshow(\"aaa\", out)\n",
    "cv2.waitKey(0)"
   ]
  },
  {
   "cell_type": "code",
   "execution_count": 2,
   "metadata": {},
   "outputs": [
    {
     "ename": "AttributeError",
     "evalue": "'NoneType' object has no attribute 'astype'",
     "output_type": "error",
     "traceback": [
      "\u001b[0;31m---------------------------------------------------------------------------\u001b[0m",
      "\u001b[0;31mAttributeError\u001b[0m                            Traceback (most recent call last)",
      "\u001b[0;32m<ipython-input-2-2d3e70b70fe0>\u001b[0m in \u001b[0;36m<module>\u001b[0;34m\u001b[0m\n\u001b[1;32m     38\u001b[0m \u001b[0;34m\u001b[0m\u001b[0m\n\u001b[1;32m     39\u001b[0m \u001b[0;31m# Read image\u001b[0m\u001b[0;34m\u001b[0m\u001b[0;34m\u001b[0m\u001b[0;34m\u001b[0m\u001b[0m\n\u001b[0;32m---> 40\u001b[0;31m \u001b[0m_img\u001b[0m \u001b[0;34m=\u001b[0m \u001b[0mcv2\u001b[0m\u001b[0;34m.\u001b[0m\u001b[0mimread\u001b[0m\u001b[0;34m(\u001b[0m\u001b[0;34m\"imori.jpg\"\u001b[0m\u001b[0;34m)\u001b[0m\u001b[0;34m.\u001b[0m\u001b[0mastype\u001b[0m\u001b[0;34m(\u001b[0m\u001b[0mnp\u001b[0m\u001b[0;34m.\u001b[0m\u001b[0mfloat32\u001b[0m\u001b[0;34m)\u001b[0m\u001b[0;34m\u001b[0m\u001b[0;34m\u001b[0m\u001b[0m\n\u001b[0m\u001b[1;32m     41\u001b[0m \u001b[0;34m\u001b[0m\u001b[0m\n\u001b[1;32m     42\u001b[0m \u001b[0;31m# Affine\u001b[0m\u001b[0;34m\u001b[0m\u001b[0;34m\u001b[0m\u001b[0;34m\u001b[0m\u001b[0m\n",
      "\u001b[0;31mAttributeError\u001b[0m: 'NoneType' object has no attribute 'astype'"
     ]
    }
   ],
   "source": [
    "import cv2\n",
    "import numpy as np\n",
    "import matplotlib.pyplot as plt\n",
    "\n",
    "\n",
    "# Affine\n",
    "def affine(img, a, b, c, d, tx, ty):\n",
    "    H, W, C = img.shape\n",
    "\n",
    "    img = np.zeros((H+2, W+2, C), dtype=np.float32)\n",
    "    img[1:H+1, 1:W+1] = _img\n",
    "\n",
    "    # get new image shape\n",
    "    H_new = np.round(H * d).astype(np.int)\n",
    "    W_new = np.round(W * a).astype(np.int)\n",
    "    out = np.zeros((H_new+1, W_new+1, C), dtype=np.float32)\n",
    "\n",
    "    # get position of new image\n",
    "    x_new = np.tile(np.arange(W_new), (H_new, 1))\n",
    "    y_new = np.arange(H_new).repeat(W_new).reshape(H_new, -1)\n",
    "\n",
    "    # get position of original image by affine\n",
    "    adbc = a * d - b * c\n",
    "    x = np.round((d * x_new  - b * y_new) / adbc).astype(np.int) - tx + 1\n",
    "    y = np.round((-c * x_new + a * y_new) / adbc).astype(np.int) - ty + 1\n",
    "\n",
    "    x = np.minimum(np.maximum(x, 0), W+1).astype(np.int)\n",
    "    y = np.minimum(np.maximum(y, 0), H+1).astype(np.int)\n",
    "\n",
    "    # assgin pixcel to new image\n",
    "    out[y_new, x_new] = img[y, x]\n",
    "\n",
    "    out = out[:H_new, :W_new]\n",
    "    out = out.astype(np.uint8)\n",
    "\n",
    "    return out\n",
    "\n",
    "\n",
    "# Read image\n",
    "_img = cv2.imread(\"imori.jpg\").astype(np.float32)\n",
    "\n",
    "# Affine\n",
    "out = affine(_img, a=1, b=0, c=0, d=1, tx=30, ty=-30)\n",
    "\n",
    "cv2.imshow(\"/Users/shotanishiyama/PycharmProjects/ip100/prog21-30/asuka.jpg\", out)\n",
    "cv2.waitKey(0)"
   ]
  },
  {
   "cell_type": "code",
   "execution_count": 10,
   "metadata": {},
   "outputs": [
    {
     "data": {
      "text/plain": [
       "13"
      ]
     },
     "execution_count": 10,
     "metadata": {},
     "output_type": "execute_result"
    }
   ],
   "source": []
  },
  {
   "cell_type": "code",
   "execution_count": null,
   "metadata": {},
   "outputs": [],
   "source": []
  }
 ],
 "metadata": {
  "kernelspec": {
   "display_name": "Python 3",
   "language": "python",
   "name": "python3"
  },
  "language_info": {
   "codemirror_mode": {
    "name": "ipython",
    "version": 3
   },
   "file_extension": ".py",
   "mimetype": "text/x-python",
   "name": "python",
   "nbconvert_exporter": "python",
   "pygments_lexer": "ipython3",
   "version": "3.7.5"
  }
 },
 "nbformat": 4,
 "nbformat_minor": 2
}
